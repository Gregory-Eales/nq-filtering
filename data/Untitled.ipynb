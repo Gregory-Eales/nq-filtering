{
 "cells": [
  {
   "cell_type": "code",
   "execution_count": 3,
   "id": "a85708ff-aa47-4569-9584-f2ad6207b4bd",
   "metadata": {},
   "outputs": [],
   "source": [
    "import pandas as pd"
   ]
  },
  {
   "cell_type": "code",
   "execution_count": 7,
   "id": "ccb443b2-c87b-4fdf-84a8-9ac1e650f766",
   "metadata": {},
   "outputs": [],
   "source": [
    "df = pd.read_csv('../click-dist.csv')"
   ]
  },
  {
   "cell_type": "code",
   "execution_count": 23,
   "id": "6bcbff3a-26d7-4389-8cfc-37c9b070d5cf",
   "metadata": {},
   "outputs": [
    {
     "data": {
      "text/html": [
       "<div>\n",
       "<style scoped>\n",
       "    .dataframe tbody tr th:only-of-type {\n",
       "        vertical-align: middle;\n",
       "    }\n",
       "\n",
       "    .dataframe tbody tr th {\n",
       "        vertical-align: top;\n",
       "    }\n",
       "\n",
       "    .dataframe thead th {\n",
       "        text-align: right;\n",
       "    }\n",
       "</style>\n",
       "<table border=\"1\" class=\"dataframe\">\n",
       "  <thead>\n",
       "    <tr style=\"text-align: right;\">\n",
       "      <th></th>\n",
       "      <th>group_id</th>\n",
       "      <th>project_id</th>\n",
       "      <th>avg(epc_cents)</th>\n",
       "      <th>avg(loi_seconds)</th>\n",
       "      <th>avg(epc_cents)/avg(loi_seconds)</th>\n",
       "      <th>count</th>\n",
       "    </tr>\n",
       "  </thead>\n",
       "  <tbody>\n",
       "    <tr>\n",
       "      <th>0</th>\n",
       "      <td>64</td>\n",
       "      <td>39108685</td>\n",
       "      <td>18.7282</td>\n",
       "      <td>264.3314</td>\n",
       "      <td>0.070851</td>\n",
       "      <td>3081</td>\n",
       "    </tr>\n",
       "    <tr>\n",
       "      <th>1</th>\n",
       "      <td>64</td>\n",
       "      <td>39104129</td>\n",
       "      <td>6.7623</td>\n",
       "      <td>168.4433</td>\n",
       "      <td>0.040146</td>\n",
       "      <td>2567</td>\n",
       "    </tr>\n",
       "    <tr>\n",
       "      <th>2</th>\n",
       "      <td>64</td>\n",
       "      <td>39087125</td>\n",
       "      <td>42.4021</td>\n",
       "      <td>368.5231</td>\n",
       "      <td>0.115059</td>\n",
       "      <td>1456</td>\n",
       "    </tr>\n",
       "    <tr>\n",
       "      <th>3</th>\n",
       "      <td>64</td>\n",
       "      <td>39174717</td>\n",
       "      <td>8.1794</td>\n",
       "      <td>114.6706</td>\n",
       "      <td>0.071329</td>\n",
       "      <td>1367</td>\n",
       "    </tr>\n",
       "    <tr>\n",
       "      <th>4</th>\n",
       "      <td>64</td>\n",
       "      <td>39087101</td>\n",
       "      <td>24.3681</td>\n",
       "      <td>415.6396</td>\n",
       "      <td>0.058628</td>\n",
       "      <td>1248</td>\n",
       "    </tr>\n",
       "  </tbody>\n",
       "</table>\n",
       "</div>"
      ],
      "text/plain": [
       "   group_id  project_id  avg(epc_cents)  avg(loi_seconds)  \\\n",
       "0        64    39108685         18.7282          264.3314   \n",
       "1        64    39104129          6.7623          168.4433   \n",
       "2        64    39087125         42.4021          368.5231   \n",
       "3        64    39174717          8.1794          114.6706   \n",
       "4        64    39087101         24.3681          415.6396   \n",
       "\n",
       "   avg(epc_cents)/avg(loi_seconds)  count  \n",
       "0                         0.070851   3081  \n",
       "1                         0.040146   2567  \n",
       "2                         0.115059   1456  \n",
       "3                         0.071329   1367  \n",
       "4                         0.058628   1248  "
      ]
     },
     "execution_count": 23,
     "metadata": {},
     "output_type": "execute_result"
    }
   ],
   "source": [
    "df.head()"
   ]
  },
  {
   "cell_type": "code",
   "execution_count": 31,
   "id": "cd33db9a-815d-4d78-972f-1a63802aa77a",
   "metadata": {},
   "outputs": [
    {
     "data": {
      "text/plain": [
       "<AxesSubplot:>"
      ]
     },
     "execution_count": 31,
     "metadata": {},
     "output_type": "execute_result"
    },
    {
     "data": {
      "image/png": "[encoded data removed]",
      "text/plain": [
       "<Figure size 432x288 with 1 Axes>"
      ]
     },
     "metadata": {
      "needs_background": "light"
     },
     "output_type": "display_data"
    }
   ],
   "source": [
    "df[df['group_id'] == 64]['avg(epc_cents)/avg(loi_seconds)'].hist(bins=[i/100 for i in range(2, 40)])"
   ]
  },
  {
   "cell_type": "code",
   "execution_count": 32,
   "id": "65a21031-0986-4a0a-9447-b3924c5bc782",
   "metadata": {},
   "outputs": [
    {
     "data": {
      "text/plain": [
       "<AxesSubplot:>"
      ]
     },
     "execution_count": 32,
     "metadata": {},
     "output_type": "execute_result"
    },
    {
     "data": {
      "image/png": "[encoded data removed]",
      "text/plain": [
       "<Figure size 432x288 with 1 Axes>"
      ]
     },
     "metadata": {
      "needs_background": "light"
     },
     "output_type": "display_data"
    }
   ],
   "source": [
    "df[df['group_id'] == 18]['avg(epc_cents)/avg(loi_seconds)'].hist(bins=[i/100 for i in range(2, 40)])"
   ]
  },
  {
   "cell_type": "code",
   "execution_count": null,
   "id": "492f882e-142b-4fa9-a5a4-10ba7578513e",
   "metadata": {},
   "outputs": [],
   "source": []
  }
 ],
 "metadata": {
  "kernelspec": {
   "display_name": "Python 3",
   "language": "python",
   "name": "python3"
  },
  "language_info": {
   "codemirror_mode": {
    "name": "ipython",
    "version": 3
   },
   "file_extension": ".py",
   "mimetype": "text/x-python",
   "name": "python",
   "nbconvert_exporter": "python",
   "pygments_lexer": "ipython3",
   "version": "3.9.7"
  }
 },
 "nbformat": 4,
 "nbformat_minor": 5
}
