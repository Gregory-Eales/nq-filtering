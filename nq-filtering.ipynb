{
 "cells": [
  {
   "cell_type": "markdown",
   "id": "c5b79017-f619-4b4b-92e9-e2e3e6aad6b9",
   "metadata": {},
   "source": [
    "# NQ-0 Filtering\n",
    "\n",
    "in order to increase the efficiency of our system we need to filter nq-0 which might prevent a large number of our users from getting performant for a particular partner. this is a way of avoiding systemic blocks on users for various reasons. \n",
    "\n",
    "\n",
    "each partner has its own status codes and various mechanisms that would prevent a user from being able to take surveys with them. the goal of this is to find instances of users who underperform with "
   ]
  },
  {
   "cell_type": "code",
   "execution_count": 118,
   "id": "8f255114-be15-45f0-a943-378f75676b6b",
   "metadata": {},
   "outputs": [],
   "source": [
    "# import libs\n",
    "from datetime import datetime, timedelta\n",
    "from matplotlib import pyplot as plt\n",
    "from tqdm.notebook import tqdm\n",
    "import pandas as pd\n",
    "import numpy as np\n",
    "import pymoo\n",
    "\n",
    "from utils import generate_data"
   ]
  },
  {
   "cell_type": "markdown",
   "id": "d0a6f5bd-8638-4e9f-b195-6b1a72bc5e76",
   "metadata": {
    "tags": []
   },
   "source": [
    "## 1. Data Analysis \n",
    "\n",
    "goals:\n",
    "- understand distribution of nq rates for users"
   ]
  },
  {
   "cell_type": "code",
   "execution_count": null,
   "id": "d788186e-b292-4967-986e-9f0f9d91b72b",
   "metadata": {},
   "outputs": [],
   "source": [
    "df = pd.read_csv('./data/partner_users_dataset.csv')"
   ]
  },
  {
   "cell_type": "code",
   "execution_count": 38,
   "id": "c252730d-08b1-4971-8b53-18b66bcddbc9",
   "metadata": {},
   "outputs": [
    {
     "data": {
      "text/plain": [
       "[]"
      ]
     },
     "execution_count": 38,
     "metadata": {},
     "output_type": "execute_result"
    },
    {
     "data": {
      "image/png": "[encoded data removed]",
      "text/plain": [
       "<Figure size 432x288 with 1 Axes>"
      ]
     },
     "metadata": {
      "needs_background": "light"
     },
     "output_type": "display_data"
    }
   ],
   "source": [
    "plt.hist(df['user_id'].value_counts().values, bins=[i*10 for i in range(10, 5*100)])\n",
    "plt.plot()"
   ]
  },
  {
   "cell_type": "code",
   "execution_count": 39,
   "id": "62777649-adaf-41bb-b5f6-7741ec97d93f",
   "metadata": {},
   "outputs": [
    {
     "ename": "AttributeError",
     "evalue": "'DataFrameGroupBy' object has no attribute 'div'",
     "output_type": "error",
     "traceback": [
      "\u001b[0;31m---------------------------------------------------------------------------\u001b[0m",
      "\u001b[0;31mAttributeError\u001b[0m                            Traceback (most recent call last)",
      "\u001b[0;32m<ipython-input-39-96849e174480>\u001b[0m in \u001b[0;36m<module>\u001b[0;34m\u001b[0m\n\u001b[1;32m      4\u001b[0m \u001b[0mdf_users\u001b[0m \u001b[0;34m=\u001b[0m \u001b[0mdf\u001b[0m\u001b[0;34m.\u001b[0m\u001b[0mgroupby\u001b[0m\u001b[0;34m(\u001b[0m\u001b[0;34m[\u001b[0m\u001b[0;34m'user_id'\u001b[0m\u001b[0;34m,\u001b[0m \u001b[0;34m'result'\u001b[0m\u001b[0;34m]\u001b[0m\u001b[0;34m)\u001b[0m\u001b[0;31m#.agg({'sales': 'sum'})\u001b[0m\u001b[0;34m\u001b[0m\u001b[0;34m\u001b[0m\u001b[0m\n\u001b[1;32m      5\u001b[0m \u001b[0mdf_result\u001b[0m \u001b[0;34m=\u001b[0m \u001b[0mdf\u001b[0m\u001b[0;34m.\u001b[0m\u001b[0mgroupby\u001b[0m\u001b[0;34m(\u001b[0m\u001b[0;34m[\u001b[0m\u001b[0;34m'result'\u001b[0m\u001b[0;34m]\u001b[0m\u001b[0;34m)\u001b[0m\u001b[0;31m#.agg({'sales': 'sum'})\u001b[0m\u001b[0;34m\u001b[0m\u001b[0;34m\u001b[0m\u001b[0m\n\u001b[0;32m----> 6\u001b[0;31m \u001b[0mdf_users\u001b[0m\u001b[0;34m.\u001b[0m\u001b[0mdiv\u001b[0m\u001b[0;34m(\u001b[0m\u001b[0mdf_result\u001b[0m\u001b[0;34m,\u001b[0m \u001b[0mlevel\u001b[0m\u001b[0;34m=\u001b[0m\u001b[0;34m'result'\u001b[0m\u001b[0;34m)\u001b[0m \u001b[0;34m*\u001b[0m \u001b[0;36m100\u001b[0m\u001b[0;34m\u001b[0m\u001b[0;34m\u001b[0m\u001b[0m\n\u001b[0m\u001b[1;32m      7\u001b[0m \u001b[0;34m\u001b[0m\u001b[0m\n\u001b[1;32m      8\u001b[0m \u001b[0;34m\u001b[0m\u001b[0m\n",
      "\u001b[0;32m/usr/local/lib/python3.9/site-packages/pandas/core/groupby/groupby.py\u001b[0m in \u001b[0;36m__getattr__\u001b[0;34m(self, attr)\u001b[0m\n\u001b[1;32m    750\u001b[0m             \u001b[0;32mreturn\u001b[0m \u001b[0mself\u001b[0m\u001b[0;34m[\u001b[0m\u001b[0mattr\u001b[0m\u001b[0;34m]\u001b[0m\u001b[0;34m\u001b[0m\u001b[0;34m\u001b[0m\u001b[0m\n\u001b[1;32m    751\u001b[0m \u001b[0;34m\u001b[0m\u001b[0m\n\u001b[0;32m--> 752\u001b[0;31m         raise AttributeError(\n\u001b[0m\u001b[1;32m    753\u001b[0m             \u001b[0;34mf\"'{type(self).__name__}' object has no attribute '{attr}'\"\u001b[0m\u001b[0;34m\u001b[0m\u001b[0;34m\u001b[0m\u001b[0m\n\u001b[1;32m    754\u001b[0m         )\n",
      "\u001b[0;31mAttributeError\u001b[0m: 'DataFrameGroupBy' object has no attribute 'div'"
     ]
    }
   ],
   "source": [
    "#df_users = df.groupby(['user_id'])\n",
    "#100.*df_users.result.eq(3).sum()/df.shape[0]\n",
    "\n",
    "df_users = df.groupby(['user_id', 'result'])#.agg({'sales': 'sum'})\n",
    "df_result = df.groupby(['result'])#.agg({'sales': 'sum'})\n",
    "df_users.div(df_result, level='result') * 100\n",
    "\n",
    "\n",
    "#plt.hist(df[df['result'] == 3]['user_id'].value_counts().values, bins=[i*10 for i in range(10, 5*100)])\n",
    "#plt.plot()"
   ]
  },
  {
   "cell_type": "markdown",
   "id": "a076d620-3c31-4b8c-9eaf-a4f7ac5c10cd",
   "metadata": {},
   "source": [
    "## 2. Define Filtering Algorithm"
   ]
  },
  {
   "cell_type": "code",
   "execution_count": 139,
   "id": "eed08331-7093-4b09-afa5-77075791f0c6",
   "metadata": {},
   "outputs": [],
   "source": [
    "def simulate_filtering(data, x=[7, 7, 5, 20, 8], verbose=True, filter_nqs=True):\n",
    "    \n",
    "    data_map = {\n",
    "        'result': 0,\n",
    "        'cpi': 1,\n",
    "        'click_timestamp': 2,\n",
    "        'term_timestamp': 3,\n",
    "        'status_code_1': 4,\n",
    "        'status_code_2': 5\n",
    "    }\n",
    "    \n",
    "    # define simulation a params\n",
    "    days_to_look = x[0]\n",
    "    days_to_block = x[1]\n",
    "    min_click_to_block = x[2]\n",
    "    min_nq_pct_to_block = x[3]\n",
    "    min_nq_to_block = x[4]\n",
    "    \n",
    "    # define metrics variables\n",
    "    total_completes = 0\n",
    "    total_revenue = 0\n",
    "    total_clicks = 0\n",
    "    total_terms = 0\n",
    "    total_nqs = 0\n",
    "    max_revenue = 0\n",
    "    max_nqs = 0\n",
    "    \n",
    "    # predefine variables\n",
    "    result = 0\n",
    "    click_time = 0\n",
    "    term_time = 0\n",
    "    cpi = 0\n",
    "    \n",
    "    # window to look at for nqs\n",
    "    time_window = days_to_look*24*60*60\n",
    "    \n",
    "    # window to block user\n",
    "    block_window = days_to_block*24*60*60\n",
    "    \n",
    "    term_counts = {}\n",
    "    user_filters = {}\n",
    "    \n",
    "    for group_user in list(data.keys()):    \n",
    "        \n",
    "        block_time = None\n",
    "        is_filtered = False\n",
    "        click_cache = {}\n",
    "        \n",
    "        for click in data[group_user]:\n",
    "            \n",
    "            result = click[data_map['result']]\n",
    "            click_time = click[data_map['click_timestamp']]\n",
    "            term_time = click[data_map['term_timestamp']]\n",
    "            cpi = click[data_map['cpi']]\n",
    "            \n",
    "            status_code_1 = click[data_map['status_code_1']]\n",
    "            status_code_2 = click[data_map['status_code_2']]\n",
    "            \n",
    "            if result == 2:\n",
    "                max_revenue += cpi\n",
    "                \n",
    "            if (result == 3 or result == 8 or result == 14) and term_time-click_time < 60:\n",
    "                max_nqs += 1\n",
    "            \n",
    "            if is_filtered:\n",
    "                \n",
    "                if block_time + block_window < click_time:\n",
    "                    is_filtered = False\n",
    "                    block_time = None\n",
    "                    \n",
    "                else:\n",
    "                    \n",
    "                    '''\n",
    "                    if term_time != 0:\n",
    "                        \n",
    "                        if group_user[1] not in user_filters:\n",
    "                            user_filters[group_user[1]] = 0\n",
    "                        \n",
    "                        user_filters[group_user[1]] += 1\n",
    "                        \n",
    "                        # use group id as key\n",
    "                        if group_user[0] not in term_counts:\n",
    "                            term_counts[group_user[0]] = {}\n",
    "\n",
    "                        if status_code_1 not in term_counts[group_user[0]]:\n",
    "                             term_counts[group_user[0]][status_code_1] = 0\n",
    "\n",
    "                        term_counts[group_user[0]][status_code_1] += 1\n",
    "                    '''\n",
    "                    \n",
    "                    continue\n",
    "                    \n",
    "            total_clicks += 1\n",
    "            \n",
    "            # record metrics\n",
    "            if result == 2:\n",
    "                total_completes += 1\n",
    "                total_revenue += cpi\n",
    "                \n",
    "            if  term_time != 0:\n",
    "                total_terms += 1\n",
    "                \n",
    "            if (result == 3 or result == 8 or result == 14) and term_time-click_time < 60:\n",
    "                total_nqs += 1\n",
    "                click_cache[click_time] = 1\n",
    "                \n",
    "            else:\n",
    "                click_cache[click_time] = 0\n",
    "                \n",
    "               \n",
    "            # rules not applied when no term exists\n",
    "            if result == 0 or term_time == 0:\n",
    "                continue\n",
    "            \n",
    "            \n",
    "            if filter_nqs:\n",
    "                # remove clicks from cache when beyond time window\n",
    "                to_delete = []\n",
    "                for time in click_cache.keys():\n",
    "                    #print(term_time, time_window, term_time - time_window, time)\n",
    "                    if click_time - time_window > time:\n",
    "                        to_delete.append(time)\n",
    "                        \n",
    "                # delete clicks outsite of time to look window\n",
    "                for time in to_delete:\n",
    "                    del click_cache[time]\n",
    "\n",
    "                nq_count = sum(click_cache.values())\n",
    "                click_count = len(click_cache)\n",
    "\n",
    "                nq_percent = round(100*nq_count/click_count)\n",
    "\n",
    "                if nq_percent > min_nq_pct_to_block and click_count > min_click_to_block and nq_count > min_nq_to_block:\n",
    "                    is_filtered = True\n",
    "                    block_time = click_time\n",
    "            \n",
    "    \n",
    "    if verbose:\n",
    "        print('total revenue: ${}'.format(round(total_revenue, 2)))\n",
    "        print('total completes: {}'.format(total_completes))\n",
    "        print('total clicks: {}'.format(total_clicks))\n",
    "        print('epc: {}'.format(round(total_completes/total_clicks, 2)))\n",
    "        print('total nqs: {}'.format(total_nqs))\n",
    "        print('nq rate: {}%'.format(round(100*total_nqs/total_clicks, 2)))\n",
    "        \n",
    "        # print(term_counts)\n",
    "        # print(dict(sorted(user_filters.items(), key=lambda item: item[1])))\n",
    "    \n",
    "    ir = round(total_completes/total_clicks, 4)\n",
    "    nq_rate = round(total_nqs/max_nqs, 4)\n",
    "    pct_revenue = round(total_revenue/max_revenue, 4)\n",
    " \n",
    "    return pct_revenue, ir, nq_rate"
   ]
  },
  {
   "cell_type": "markdown",
   "id": "2d6a2632-e8e7-4070-83cb-7a15ea026ae6",
   "metadata": {},
   "source": [
    "## 3. Define Optimization Scheme"
   ]
  },
  {
   "cell_type": "code",
   "execution_count": 127,
   "id": "549921a5-7195-4be4-94a6-538361c7f200",
   "metadata": {},
   "outputs": [],
   "source": [
    "from pymoo.core.problem import ElementwiseProblem, starmap_parallelized_eval\n",
    "from multiprocessing.pool import ThreadPool\n",
    "from pymoo.algorithms.moo.nsga3 import NSGA3\n",
    "from pymoo.factory import get_sampling, get_crossover, get_mutation, get_reference_directions\n",
    "from pymoo.factory import get_termination\n",
    "from pymoo.optimize import minimize\n",
    "import json\n",
    "import time\n",
    "import os"
   ]
  },
  {
   "cell_type": "code",
   "execution_count": 128,
   "id": "b2314926-df57-41f7-b9bc-060b2d4c03b7",
   "metadata": {},
   "outputs": [],
   "source": [
    "# define problem\n",
    "class FilteringNQs(ElementwiseProblem):\n",
    "    \n",
    "    '''\n",
    "    days_to_look = x[0]\n",
    "    days_to_block = x[1]\n",
    "    min_click_to_block = x[2]\n",
    "    min_nq_pct_to_block = x[3]\n",
    "    min_nq_to_block = x[4]\n",
    "    '''\n",
    "    \n",
    "    def __init__(self, data, **kwargs):\n",
    "        super().__init__(n_var=5, # number of variables to use for optimization\n",
    "                         n_obj=3, # number of objectives to optimize for\n",
    "                         n_constr=0, # number of constraints on the output\n",
    "                         xl=np.array([1, 1, 1, 1, 1]), # lower bound for params\n",
    "                         xu=np.array([30, 90, 100, 100, 100]), # upper bound for params\n",
    "                        )\n",
    "        \n",
    "        self.data = data\n",
    "      \n",
    "    def _evaluate(self, x, out, *args, **kwargs):\n",
    "        \n",
    "        pct_revenue, ir, nq_rate = simulate_filtering(self.data, x=x, verbose=False, filter_nqs=True)\n",
    "        \n",
    "        f1 = -1 * pct_revenue # need to make metrics negative for minimization \n",
    "        f2 = -1 * ir\n",
    "        f3 = nq_rate\n",
    "        \n",
    "        out[\"F\"] = [f1, f2, f3]\n",
    "        "
   ]
  },
  {
   "cell_type": "code",
   "execution_count": 151,
   "id": "e870994d-2e36-43a1-9275-619a1fa4ab89",
   "metadata": {},
   "outputs": [],
   "source": [
    "def save_optimization_results(F, X, params, folder_name=''):\n",
    "    \n",
    "    with open(\"./results/{}/{}\".format(folder_name, \"params.json\"), \"w\") as outfile:\n",
    "        json.dump(params, outfile, indent=4)\n",
    "    \n",
    "    df = pd.DataFrame(\n",
    "        data=np.concatenate((F, X), axis=1),\n",
    "        columns=[\n",
    "            'Negative Rev',\n",
    "            'Neg IR',\n",
    "            'NQ Rate',\n",
    "            'days_to_look',\n",
    "            'days_to_block',\n",
    "            'min_click_to_block',\n",
    "            'min_nq_pct_to_block',\n",
    "            'min_nq_to_block',\n",
    "        ]\n",
    "    )\n",
    "    \n",
    "    df.to_csv(\"./results/{}/{}\".format(folder_name, \"results.csv\"))\n",
    "    \n",
    "    \n",
    "    plt.figure(figsize=(7, 5))\n",
    "    plt.scatter(F[:, 2], -1*F[:, 0], s=30, facecolors='none', edgecolors='blue')\n",
    "    plt.title(\"Objective Space\")\n",
    "    plt.xlabel(\"nqs\")\n",
    "    plt.ylabel(\"revenue\")\n",
    "    plt.savefig(\"./results/{}/{}\".format(folder_name, 'results.png'))"
   ]
  },
  {
   "cell_type": "code",
   "execution_count": 152,
   "id": "c1c9ac0c-c109-4143-8fb1-d4b682601ed9",
   "metadata": {},
   "outputs": [],
   "source": [
    "def print_msg(msg):\n",
    "    local_time = time.strftime(\"%Y-%m-%d %H:%M:%S\", time.localtime())\n",
    "    print(\"{} | {}\".format(local_time, msg))"
   ]
  },
  {
   "cell_type": "code",
   "execution_count": 153,
   "id": "4b5972d9-76a7-4934-b628-966a025c7565",
   "metadata": {},
   "outputs": [],
   "source": [
    "def estimated_run_time(data, population_size=100, term_gens=10, n_threads=5):\n",
    "    '''\n",
    "    estimated runtime in minutes\n",
    "    '''\n",
    "    t = time.time()\n",
    "    simulate_filtering(data, x=[7, 7, 5, 20, 8], verbose=False, filter_nqs=True)\n",
    "    t = (time.time() - t)*population_size*term_gens\n",
    "    t = round(t/60, 2)\n",
    "    return t\n"
   ]
  },
  {
   "cell_type": "code",
   "execution_count": 158,
   "id": "a5dcb64d-192c-4957-8dfd-7dfaf2044780",
   "metadata": {},
   "outputs": [],
   "source": [
    "# define optimization function\n",
    "def optimize_nq_filtering(user_pct=0.01, population_size=100, n_offsprings=20, term_gens=10, n_partitions=12, n_threads=5, random_seed=0, save=True, verbose=True):\n",
    "    \n",
    "    '''\n",
    "    this function optimizes the nq filtering algorithm on a set of data\n",
    "    goal is to find the optimal filtering parameters to be used\n",
    "    '''\n",
    "    \n",
    "    \n",
    "    print_msg('loading data')\n",
    "    \n",
    "    data = generate_data(path='./data/partner_users_dataset.csv', user_pct=user_pct)\n",
    "    \n",
    "    print_msg('data loaded')\n",
    "    print_msg('estimating runtime')\n",
    "    est_time = estimated_run_time(data, population_size=population_size, term_gens=term_gens, n_threads=n_threads)\n",
    "    print_msg('estimated runtime: {} min'.format(est_time))\n",
    "    \n",
    "    print_msg('initializing objects')\n",
    "    # start time of experiment \n",
    "    start_time = time.time()\n",
    "    \n",
    "    # initialize the pool\n",
    "    pool = ThreadPool(n_threads)\n",
    "\n",
    "    # define the problem by passing the starmap interface of the thread pool\n",
    "    problem = FilteringNQs(\n",
    "        runner=pool.starmap,\n",
    "        func_eval=starmap_parallelized_eval,\n",
    "        data=data\n",
    "    )\n",
    "    \n",
    "    # create the reference directions to be used for the optimization\n",
    "    ref_dirs = get_reference_directions(\"das-dennis\", 3, n_partitions=n_partitions)\n",
    "\n",
    "    # optimization algorithm to use (may need to play around with this)\n",
    "    algorithm = NSGA3(\n",
    "        pop_size=population_size,\n",
    "        n_offsprings=n_offsprings,\n",
    "        sampling=get_sampling(\"real_random\"),\n",
    "        crossover=get_crossover(\"real_sbx\", prob=0.9, eta=15),\n",
    "        mutation=get_mutation(\"real_pm\", eta=20),\n",
    "        eliminate_duplicates=True,\n",
    "        ref_dirs=ref_dirs\n",
    "    )\n",
    "\n",
    "    termination = get_termination(\"n_gen\", term_gens)\n",
    "    \n",
    "    print_msg('starting optimization')\n",
    "    res = minimize(problem,\n",
    "                   algorithm,\n",
    "                   termination,\n",
    "                   seed=random_seed,\n",
    "                   save_history=True,\n",
    "                   verbose=True\n",
    "                  )\n",
    "    \n",
    "    print_msg('finished optimization')\n",
    "    \n",
    "    X = res.X\n",
    "    F = res.F\n",
    "    \n",
    "    if save:\n",
    "        \n",
    "        print_msg('saving results')\n",
    "        params = {\n",
    "            'percent_of_users_used': '{}%'.format(round(100*user_pct, 0)),\n",
    "            'population_size': population_size,\n",
    "            'number_of_offspring': n_offsprings,\n",
    "            'term_on_generation_n': term_gens,\n",
    "            'n_partitions': n_partitions,\n",
    "            'number_of_threads': n_threads,\n",
    "            'random_seed': random_seed,\n",
    "            'time_taken_minutes': round((time.time() - start_time)/60, 2)\n",
    "        }\n",
    "        \n",
    "        folder_name = time.strftime(\"%Y-%m-%d_%H:%M:%S\", time.localtime())\n",
    "        os.makedirs('./results/{}'.format(folder_name))\n",
    "        \n",
    "        save_optimization_results(F, X, params, folder_name=folder_name)\n",
    "        \n",
    "    print_msg('done')\n",
    "            "
   ]
  },
  {
   "cell_type": "code",
   "execution_count": 159,
   "id": "d20a218c-27d8-437a-8d8c-68eb487115bb",
   "metadata": {},
   "outputs": [
    {
     "name": "stdout",
     "output_type": "stream",
     "text": [
      "2021-11-12 15:00:56 | loading data\n",
      "(34580407, 8)\n",
      "(5851,)\n"
     ]
    },
    {
     "name": "stderr",
     "output_type": "stream",
     "text": [
      "100%|██████████| 5851/5851 [00:00<00:00, 37922.81it/s]"
     ]
    },
    {
     "name": "stdout",
     "output_type": "stream",
     "text": [
      "2021-11-12 15:01:23 | data loaded\n",
      "2021-11-12 15:01:23 | estimating runtime\n"
     ]
    },
    {
     "name": "stderr",
     "output_type": "stream",
     "text": [
      "\n"
     ]
    },
    {
     "name": "stdout",
     "output_type": "stream",
     "text": [
      "2021-11-12 15:01:23 | estimated runtime: 17.56 min\n",
      "2021-11-12 15:01:23 | initializing objects\n",
      "2021-11-12 15:01:23 | starting optimization\n",
      "=======================================================\n",
      "n_gen |  n_eval |  n_nds  |     eps      |  indicator  \n",
      "=======================================================\n",
      "    1 |     100 |      10 |            - |            -\n",
      "    2 |     140 |      11 |  0.030518234 |        ideal\n",
      "    3 |     180 |      14 |  0.054111245 |        ideal\n",
      "    4 |     220 |      12 |  0.265625000 |        ideal\n",
      "    5 |     260 |      12 |  0.072360617 |        ideal\n",
      "    6 |     300 |      16 |  0.127984857 |        ideal\n",
      "    7 |     340 |      18 |  0.020713040 |            f\n",
      "    8 |     380 |      21 |  0.005790388 |        ideal\n",
      "    9 |     420 |      23 |  0.013886058 |            f\n",
      "   10 |     460 |      23 |  0.129097327 |        ideal\n",
      "   11 |     500 |      19 |  0.032682927 |        ideal\n",
      "   12 |     540 |      24 |  0.041095890 |        ideal\n",
      "   13 |     580 |      27 |  0.026413087 |            f\n",
      "   14 |     620 |      25 |  0.045751634 |        ideal\n",
      "   15 |     660 |      24 |  0.004284825 |            f\n",
      "   16 |     700 |      26 |  0.061349693 |        ideal\n",
      "   17 |     740 |      26 |  0.009850601 |            f\n",
      "   18 |     780 |      24 |  0.099447514 |        ideal\n",
      "   19 |     820 |      23 |  0.012483772 |            f\n",
      "   20 |     860 |      25 |  0.008777051 |            f\n",
      "2021-11-12 16:52:29 | finished optimization\n",
      "2021-11-12 16:52:29 | saving results\n",
      "2021-11-12 16:52:29 | done\n"
     ]
    },
    {
     "data": {
      "image/png": "[encoded data removed]",
      "text/plain": [
       "<Figure size 504x360 with 1 Axes>"
      ]
     },
     "metadata": {
      "needs_background": "light"
     },
     "output_type": "display_data"
    }
   ],
   "source": [
    "optimize_nq_filtering(user_pct=0.01, population_size=100, n_offsprings=40, term_gens=20, n_partitions=12, n_threads=12, random_seed=0, save=True, verbose=True)"
   ]
  },
  {
   "cell_type": "code",
   "execution_count": 161,
   "id": "15d83980-fc0a-42ef-be95-b06126e90b09",
   "metadata": {},
   "outputs": [
    {
     "name": "stdout",
     "output_type": "stream",
     "text": [
      "(34580407, 8)\n",
      "(5851,)\n"
     ]
    },
    {
     "name": "stderr",
     "output_type": "stream",
     "text": [
      "100%|██████████| 5851/5851 [00:00<00:00, 38535.99it/s]\n"
     ]
    }
   ],
   "source": [
    "data = generate_data(path='./data/partner_users_dataset.csv', user_pct=0.01)"
   ]
  },
  {
   "cell_type": "code",
   "execution_count": 162,
   "id": "8335ba54-30d3-4b32-884f-a10e9da6c52f",
   "metadata": {},
   "outputs": [
    {
     "name": "stdout",
     "output_type": "stream",
     "text": [
      "total revenue: $84894.79\n",
      "total completes: 61429\n",
      "total clicks: 304313\n",
      "epc: 0.2\n",
      "total nqs: 59420\n",
      "nq rate: 19.53%\n"
     ]
    },
    {
     "data": {
      "text/plain": [
       "(0.9451, 0.2019, 0.7368)"
      ]
     },
     "execution_count": 162,
     "metadata": {},
     "output_type": "execute_result"
    }
   ],
   "source": [
    "simulate_filtering(data, x=[26.437167465651434, 20.87477687489137, 13.9190669464003, 41.30969749020242, 14.885932066024598], verbose=True, filter_nqs=True)"
   ]
  },
  {
   "cell_type": "code",
   "execution_count": 163,
   "id": "67fb1f41-2155-44a0-8240-b85c42cf013a",
   "metadata": {},
   "outputs": [
    {
     "name": "stdout",
     "output_type": "stream",
     "text": [
      "total revenue: $89826.8\n",
      "total completes: 66315\n",
      "total clicks: 350322\n",
      "epc: 0.19\n",
      "total nqs: 80644\n",
      "nq rate: 23.02%\n"
     ]
    },
    {
     "data": {
      "text/plain": [
       "(1.0, 0.1893, 1.0)"
      ]
     },
     "execution_count": 163,
     "metadata": {},
     "output_type": "execute_result"
    }
   ],
   "source": [
    "simulate_filtering(data, x=[26.437167465651434, 20.87477687489137, 13.9190669464003, 41.30969749020242, 14.885932066024598], verbose=True, filter_nqs=False)"
   ]
  },
  {
   "cell_type": "code",
   "execution_count": 166,
   "id": "8ef533c1-d567-4667-be08-479fe8cb8e84",
   "metadata": {},
   "outputs": [
    {
     "data": {
      "text/plain": [
       "14720.0"
      ]
     },
     "execution_count": 166,
     "metadata": {},
     "output_type": "execute_result"
    }
   ],
   "source": [
    "(46000)*0.32"
   ]
  },
  {
   "cell_type": "code",
   "execution_count": 167,
   "id": "a3d3b431-4955-41ef-b702-ab3a886d8487",
   "metadata": {},
   "outputs": [
    {
     "data": {
      "text/plain": [
       "4932.010000000009"
      ]
     },
     "execution_count": 167,
     "metadata": {},
     "output_type": "execute_result"
    }
   ],
   "source": [
    "89826.8-84894.79"
   ]
  },
  {
   "cell_type": "code",
   "execution_count": null,
   "id": "727303c6-8d4d-4250-ba8c-163bd11e03b0",
   "metadata": {},
   "outputs": [],
   "source": []
  }
 ],
 "metadata": {
  "kernelspec": {
   "display_name": "Python 3",
   "language": "python",
   "name": "python3"
  },
  "language_info": {
   "codemirror_mode": {
    "name": "ipython",
    "version": 3
   },
   "file_extension": ".py",
   "mimetype": "text/x-python",
   "name": "python",
   "nbconvert_exporter": "python",
   "pygments_lexer": "ipython3",
   "version": "3.9.7"
  }
 },
 "nbformat": 4,
 "nbformat_minor": 5
}
