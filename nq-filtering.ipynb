{
 "cells": [
  {
   "cell_type": "markdown",
   "id": "c5b79017-f619-4b4b-92e9-e2e3e6aad6b9",
   "metadata": {},
   "source": [
    "# NQ-0 Filtering\n",
    "\n",
    "in order to increase the efficiency of our system we need to filter nq-0 which might prevent a large number of our users from getting performant for a particular partner. this is a way of avoiding systemic blocks on users for various reasons. \n",
    "\n",
    "\n",
    "each partner has its own status codes and various mechanisms that would prevent a user from being able to take surveys with them. the goal of this is to find instances of users who underperform with "
   ]
  },
  {
   "cell_type": "code",
   "execution_count": null,
   "id": "20362b1c-22d7-4ffe-9e4a-5092818413e4",
   "metadata": {},
   "outputs": [],
   "source": [
    "%load_ext autoreload\n",
    "%autoreload 2"
   ]
  },
  {
   "cell_type": "code",
   "execution_count": 4,
   "id": "8f255114-be15-45f0-a943-378f75676b6b",
   "metadata": {},
   "outputs": [],
   "source": [
    "# import libs\n",
    "from datetime import datetime, timedelta\n",
    "from matplotlib import pyplot as plt\n",
    "from tqdm.notebook import tqdm\n",
    "import pandas as pd\n",
    "import numpy as np\n",
    "import pymoo\n",
    "\n",
    "from utils import *"
   ]
  },
  {
   "cell_type": "markdown",
   "id": "d0a6f5bd-8638-4e9f-b195-6b1a72bc5e76",
   "metadata": {
    "tags": []
   },
   "source": [
    "## Data Analysis \n",
    "\n",
    "goals:\n",
    "- understand distribution of nq rates for users"
   ]
  },
  {
   "cell_type": "code",
   "execution_count": null,
   "id": "d788186e-b292-4967-986e-9f0f9d91b72b",
   "metadata": {},
   "outputs": [],
   "source": [
    "df = pd.read_csv('./data/partner_users_dataset.csv')"
   ]
  },
  {
   "cell_type": "code",
   "execution_count": 38,
   "id": "c252730d-08b1-4971-8b53-18b66bcddbc9",
   "metadata": {},
   "outputs": [
    {
     "data": {
      "text/plain": [
       "[]"
      ]
     },
     "execution_count": 38,
     "metadata": {},
     "output_type": "execute_result"
    },
    {
     "data": {
      "image/png": "[encoded data removed]",
      "text/plain": [
       "<Figure size 432x288 with 1 Axes>"
      ]
     },
     "metadata": {
      "needs_background": "light"
     },
     "output_type": "display_data"
    }
   ],
   "source": [
    "plt.hist(df['user_id'].value_counts().values, bins=[i*10 for i in range(10, 5*100)])\n",
    "plt.plot()"
   ]
  },
  {
   "cell_type": "code",
   "execution_count": null,
   "id": "62777649-adaf-41bb-b5f6-7741ec97d93f",
   "metadata": {},
   "outputs": [],
   "source": [
    "#df_users = df.groupby(['user_id'])\n",
    "#100.*df_users.result.eq(3).sum()/df.shape[0]\n",
    "\n",
    "df_users = df.groupby(['user_id', 'result'])#.agg({'sales': 'sum'})\n",
    "df_result = df.groupby(['result'])#.agg({'sales': 'sum'})\n",
    "df_users.div(df_result, level='result') * 100\n",
    "\n",
    "\n",
    "#plt.hist(df[df['result'] == 3]['user_id'].value_counts().values, bins=[i*10 for i in range(10, 5*100)])\n",
    "#plt.plot()"
   ]
  },
  {
   "cell_type": "markdown",
   "id": "2d6a2632-e8e7-4070-83cb-7a15ea026ae6",
   "metadata": {},
   "source": [
    "## Define Optimization Scheme"
   ]
  },
  {
   "cell_type": "code",
   "execution_count": 10,
   "id": "549921a5-7195-4be4-94a6-538361c7f200",
   "metadata": {},
   "outputs": [],
   "source": [
    "# import modules\n",
    "from multiprocessing.pool import ThreadPool\n",
    "from pymoo.algorithms.moo.nsga2 import NSGA2\n",
    "from pymoo.factory import get_sampling, get_crossover, get_mutation, get_reference_directions, get_termination\n",
    "from pymoo.optimize import minimize\n",
    "import numpy as np\n",
    "\n",
    "# import utils\n",
    "from utils import *"
   ]
  },
  {
   "cell_type": "code",
   "execution_count": 12,
   "id": "a5dcb64d-192c-4957-8dfd-7dfaf2044780",
   "metadata": {},
   "outputs": [],
   "source": [
    "# define optimization function\n",
    "def optimize_nq_filtering(user_pct=0.01, population_size=100, n_offsprings=20, term_gens=10, n_partitions=12, n_threads=5, random_seed=0, save=True, verbose=True):\n",
    "    \n",
    "    '''\n",
    "    this function optimizes the nq filtering algorithm on a set of data\n",
    "    goal is to find the optimal filtering parameters to be used\n",
    "    '''\n",
    "    \n",
    "    \n",
    "    print_msg('loading data')\n",
    "    \n",
    "    data = generate_data(path='./data/partner_users_dataset.csv', user_pct=user_pct)\n",
    "    \n",
    "    print_msg('data loaded')\n",
    "    print_msg('estimating runtime')\n",
    "    est_time = estimated_run_time(data, simulate_filtering, population_size=population_size, term_gens=term_gens, n_threads=n_threads)\n",
    "    print_msg('estimated runtime: {} min'.format(est_time))\n",
    "    \n",
    "    print_msg('initializing objects')\n",
    "    # start time of experiment \n",
    "    start_time = time.time()\n",
    "    \n",
    "    # initialize the pool\n",
    "    pool = ThreadPool(n_threads)\n",
    "\n",
    "    # define the problem by passing the starmap interface of the thread pool\n",
    "    problem = FilteringNQs(\n",
    "        runner=pool.starmap,\n",
    "        func_eval=starmap_parallelized_eval,\n",
    "        data=data\n",
    "    )\n",
    "    \n",
    "    # create the reference directions to be used for the optimization\n",
    "    ref_dirs = get_reference_directions(\"das-dennis\", 3, n_partitions=n_partitions)\n",
    "\n",
    "    # optimization algorithm to use (may need to play around with this)\n",
    "    algorithm = NSGA2(\n",
    "        pop_size=population_size,\n",
    "        n_offsprings=n_offsprings,\n",
    "        sampling=get_sampling(\"real_random\"),\n",
    "        crossover=get_crossover(\"real_sbx\", prob=0.9, eta=15),\n",
    "        mutation=get_mutation(\"real_pm\", eta=20),\n",
    "        eliminate_duplicates=True,\n",
    "        ref_dirs=ref_dirs\n",
    "    )\n",
    "\n",
    "    termination = get_termination(\"n_gen\", term_gens)\n",
    "    \n",
    "    print_msg('starting optimization')\n",
    "    res = minimize(problem,\n",
    "                   algorithm,\n",
    "                   termination,\n",
    "                   seed=random_seed,\n",
    "                   save_history=True,\n",
    "                   verbose=True\n",
    "                  )\n",
    "    \n",
    "    print_msg('finished optimization')\n",
    "    \n",
    "    X = res.X\n",
    "    F = res.F\n",
    "    \n",
    "    if save:\n",
    "        \n",
    "        print_msg('saving results')\n",
    "        params = {\n",
    "            'percent_of_users_used': '{}%'.format(round(100*user_pct, 0)),\n",
    "            'population_size': population_size,\n",
    "            'number_of_offspring': n_offsprings,\n",
    "            'term_on_generation_n': term_gens,\n",
    "            'n_partitions': n_partitions,\n",
    "            'number_of_threads': n_threads,\n",
    "            'random_seed': random_seed,\n",
    "            'time_taken_minutes': round((time.time() - start_time)/60, 2)\n",
    "        }\n",
    "        \n",
    "        folder_name = time.strftime(\"%Y-%m-%d_%H:%M:%S\", time.localtime())\n",
    "        os.makedirs('./results/{}'.format(folder_name))\n",
    "        \n",
    "        save_optimization_results(F, X, params, folder_name=folder_name)\n",
    "        \n",
    "    print_msg('done')\n",
    "            "
   ]
  },
  {
   "cell_type": "code",
   "execution_count": 13,
   "id": "d20a218c-27d8-437a-8d8c-68eb487115bb",
   "metadata": {},
   "outputs": [
    {
     "name": "stdout",
     "output_type": "stream",
     "text": [
      "2021-11-16 08:26:52 | loading data\n",
      "2021-11-16 08:27:08 | loaded 34,580,407 rows\n",
      "2021-11-16 08:27:09 | 989 users selected\n",
      "2021-11-16 08:27:12 | loaded 308,675 rows from selected users\n",
      "2021-11-16 08:27:15 | converting to dictionary\n"
     ]
    },
    {
     "name": "stderr",
     "output_type": "stream",
     "text": [
      "100%|██████████| 956/956 [00:00<00:00, 2482.37it/s]\n"
     ]
    },
    {
     "name": "stdout",
     "output_type": "stream",
     "text": [
      "2021-11-16 08:27:15 | data loaded\n",
      "2021-11-16 08:27:15 | estimating runtime\n"
     ]
    },
    {
     "name": "stderr",
     "output_type": "stream",
     "text": [
      "  0%|          | 0/956 [00:00<?, ?it/s]"
     ]
    },
    {
     "name": "stdout",
     "output_type": "stream",
     "text": [
      "2021-11-16 08:27:15 | unable to estimate runtime\n",
      "2021-11-16 08:27:15 | estimated runtime: 1637080035.735581 min\n",
      "2021-11-16 08:27:15 | initializing objects\n"
     ]
    },
    {
     "name": "stderr",
     "output_type": "stream",
     "text": [
      "\n"
     ]
    },
    {
     "ename": "NameError",
     "evalue": "name 'np' is not defined",
     "output_type": "error",
     "traceback": [
      "\u001b[0;31m---------------------------------------------------------------------------\u001b[0m",
      "\u001b[0;31mNameError\u001b[0m                                 Traceback (most recent call last)",
      "\u001b[0;32m<ipython-input-13-f3ada7290bc1>\u001b[0m in \u001b[0;36m<module>\u001b[0;34m\u001b[0m\n\u001b[0;32m----> 1\u001b[0;31m \u001b[0moptimize_nq_filtering\u001b[0m\u001b[0;34m(\u001b[0m\u001b[0muser_pct\u001b[0m\u001b[0;34m=\u001b[0m\u001b[0;36m0.01\u001b[0m\u001b[0;34m,\u001b[0m \u001b[0mpopulation_size\u001b[0m\u001b[0;34m=\u001b[0m\u001b[0;36m100\u001b[0m\u001b[0;34m,\u001b[0m \u001b[0mn_offsprings\u001b[0m\u001b[0;34m=\u001b[0m\u001b[0;36m40\u001b[0m\u001b[0;34m,\u001b[0m \u001b[0mterm_gens\u001b[0m\u001b[0;34m=\u001b[0m\u001b[0;36m20\u001b[0m\u001b[0;34m,\u001b[0m \u001b[0mn_partitions\u001b[0m\u001b[0;34m=\u001b[0m\u001b[0;36m12\u001b[0m\u001b[0;34m,\u001b[0m \u001b[0mn_threads\u001b[0m\u001b[0;34m=\u001b[0m\u001b[0;36m12\u001b[0m\u001b[0;34m,\u001b[0m \u001b[0mrandom_seed\u001b[0m\u001b[0;34m=\u001b[0m\u001b[0;36m0\u001b[0m\u001b[0;34m,\u001b[0m \u001b[0msave\u001b[0m\u001b[0;34m=\u001b[0m\u001b[0;32mTrue\u001b[0m\u001b[0;34m,\u001b[0m \u001b[0mverbose\u001b[0m\u001b[0;34m=\u001b[0m\u001b[0;32mTrue\u001b[0m\u001b[0;34m)\u001b[0m\u001b[0;34m\u001b[0m\u001b[0;34m\u001b[0m\u001b[0m\n\u001b[0m",
      "\u001b[0;32m<ipython-input-12-35f16dfca570>\u001b[0m in \u001b[0;36moptimize_nq_filtering\u001b[0;34m(user_pct, population_size, n_offsprings, term_gens, n_partitions, n_threads, random_seed, save, verbose)\u001b[0m\n\u001b[1;32m     25\u001b[0m \u001b[0;34m\u001b[0m\u001b[0m\n\u001b[1;32m     26\u001b[0m     \u001b[0;31m# define the problem by passing the starmap interface of the thread pool\u001b[0m\u001b[0;34m\u001b[0m\u001b[0;34m\u001b[0m\u001b[0m\n\u001b[0;32m---> 27\u001b[0;31m     problem = FilteringNQs(\n\u001b[0m\u001b[1;32m     28\u001b[0m         \u001b[0mrunner\u001b[0m\u001b[0;34m=\u001b[0m\u001b[0mpool\u001b[0m\u001b[0;34m.\u001b[0m\u001b[0mstarmap\u001b[0m\u001b[0;34m,\u001b[0m\u001b[0;34m\u001b[0m\u001b[0;34m\u001b[0m\u001b[0m\n\u001b[1;32m     29\u001b[0m         \u001b[0mfunc_eval\u001b[0m\u001b[0;34m=\u001b[0m\u001b[0mstarmap_parallelized_eval\u001b[0m\u001b[0;34m,\u001b[0m\u001b[0;34m\u001b[0m\u001b[0;34m\u001b[0m\u001b[0m\n",
      "\u001b[0;32m~/Repositories/nq-filtering/utils/filter.py\u001b[0m in \u001b[0;36m__init__\u001b[0;34m(self, data, **kwargs)\u001b[0m\n\u001b[1;32m    175\u001b[0m                          \u001b[0mn_obj\u001b[0m\u001b[0;34m=\u001b[0m\u001b[0;36m3\u001b[0m\u001b[0;34m,\u001b[0m \u001b[0;31m# number of objectives to optimize for\u001b[0m\u001b[0;34m\u001b[0m\u001b[0;34m\u001b[0m\u001b[0m\n\u001b[1;32m    176\u001b[0m                          \u001b[0mn_constr\u001b[0m\u001b[0;34m=\u001b[0m\u001b[0;36m0\u001b[0m\u001b[0;34m,\u001b[0m \u001b[0;31m# number of constraints on the output\u001b[0m\u001b[0;34m\u001b[0m\u001b[0;34m\u001b[0m\u001b[0m\n\u001b[0;32m--> 177\u001b[0;31m                          \u001b[0mxl\u001b[0m\u001b[0;34m=\u001b[0m\u001b[0mnp\u001b[0m\u001b[0;34m.\u001b[0m\u001b[0marray\u001b[0m\u001b[0;34m(\u001b[0m\u001b[0;34m[\u001b[0m\u001b[0;36m1\u001b[0m\u001b[0;34m,\u001b[0m \u001b[0;36m1\u001b[0m\u001b[0;34m,\u001b[0m \u001b[0;36m1\u001b[0m\u001b[0;34m,\u001b[0m \u001b[0;36m1\u001b[0m\u001b[0;34m,\u001b[0m \u001b[0;36m1\u001b[0m\u001b[0;34m]\u001b[0m\u001b[0;34m)\u001b[0m\u001b[0;34m,\u001b[0m \u001b[0;31m# lower bound for params\u001b[0m\u001b[0;34m\u001b[0m\u001b[0;34m\u001b[0m\u001b[0m\n\u001b[0m\u001b[1;32m    178\u001b[0m                          \u001b[0mxu\u001b[0m\u001b[0;34m=\u001b[0m\u001b[0mnp\u001b[0m\u001b[0;34m.\u001b[0m\u001b[0marray\u001b[0m\u001b[0;34m(\u001b[0m\u001b[0;34m[\u001b[0m\u001b[0;36m30\u001b[0m\u001b[0;34m,\u001b[0m \u001b[0;36m90\u001b[0m\u001b[0;34m,\u001b[0m \u001b[0;36m100\u001b[0m\u001b[0;34m,\u001b[0m \u001b[0;36m100\u001b[0m\u001b[0;34m,\u001b[0m \u001b[0;36m100\u001b[0m\u001b[0;34m]\u001b[0m\u001b[0;34m)\u001b[0m\u001b[0;34m,\u001b[0m \u001b[0;31m# upper bound for params\u001b[0m\u001b[0;34m\u001b[0m\u001b[0;34m\u001b[0m\u001b[0m\n\u001b[1;32m    179\u001b[0m                         )\n",
      "\u001b[0;31mNameError\u001b[0m: name 'np' is not defined"
     ]
    }
   ],
   "source": [
    "optimize_nq_filtering(user_pct=0.01, population_size=100, n_offsprings=40, term_gens=20, n_partitions=12, n_threads=12, random_seed=0, save=True, verbose=True)"
   ]
  },
  {
   "cell_type": "code",
   "execution_count": 2,
   "id": "15d83980-fc0a-42ef-be95-b06126e90b09",
   "metadata": {},
   "outputs": [
    {
     "name": "stdout",
     "output_type": "stream",
     "text": [
      "(34580407, 8)\n",
      "(34580407, 8)\n",
      "(33165691, 8)\n"
     ]
    },
    {
     "name": "stderr",
     "output_type": "stream",
     "text": [
      "100%|██████████| 4434/4434 [00:00<00:00, 20706.18it/s]\n"
     ]
    }
   ],
   "source": [
    "data = generate_data(path='./data/partner_users_dataset.csv', user_pct=0.01)"
   ]
  },
  {
   "cell_type": "code",
   "execution_count": null,
   "id": "8335ba54-30d3-4b32-884f-a10e9da6c52f",
   "metadata": {},
   "outputs": [],
   "source": [
    "simulate_filtering(data, x=[26.437167465651434, 20.87477687489137, 13.9190669464003, 41.30969749020242, 14.885932066024598], verbose=True, filter_nqs=True)"
   ]
  }
 ],
 "metadata": {
  "kernelspec": {
   "display_name": "Python 3",
   "language": "python",
   "name": "python3"
  },
  "language_info": {
   "codemirror_mode": {
    "name": "ipython",
    "version": 3
   },
   "file_extension": ".py",
   "mimetype": "text/x-python",
   "name": "python",
   "nbconvert_exporter": "python",
   "pygments_lexer": "ipython3",
   "version": "3.9.7"
  }
 },
 "nbformat": 4,
 "nbformat_minor": 5
}
