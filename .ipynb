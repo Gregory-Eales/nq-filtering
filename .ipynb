{
 "cells": [
  {
   "cell_type": "code",
   "execution_count": 35,
   "id": "46dd3d43-2c65-4602-85e2-8b387fe52fbc",
   "metadata": {},
   "outputs": [],
   "source": [
    "import sys\n",
    "import pandas as pd\n",
    "import numpy as np\n",
    "from matplotlib import pyplot as plt"
   ]
  },
  {
   "cell_type": "code",
   "execution_count": 4,
   "id": "a9563b2c-7b56-483e-9f37-ce19237ac1a0",
   "metadata": {},
   "outputs": [],
   "source": [
    "df = pd.read_csv('./data/partner_users_dataset.csv')"
   ]
  },
  {
   "cell_type": "code",
   "execution_count": 34,
   "id": "bb3a490f-42f0-4251-881b-d847d44ee2ee",
   "metadata": {},
   "outputs": [
    {
     "name": "stdout",
     "output_type": "stream",
     "text": [
      "file size: 2.06 GB\n"
     ]
    }
   ],
   "source": [
    "print('file size:', round(sys.getsizeof(df)/(1024 * 1024 * 1024), 2), 'GB')"
   ]
  },
  {
   "cell_type": "code",
   "execution_count": 28,
   "id": "8ba91f02-5519-475b-9279-a489ae7f28bb",
   "metadata": {},
   "outputs": [
    {
     "data": {
      "text/html": [
       "<div>\n",
       "<style scoped>\n",
       "    .dataframe tbody tr th:only-of-type {\n",
       "        vertical-align: middle;\n",
       "    }\n",
       "\n",
       "    .dataframe tbody tr th {\n",
       "        vertical-align: top;\n",
       "    }\n",
       "\n",
       "    .dataframe thead th {\n",
       "        text-align: right;\n",
       "    }\n",
       "</style>\n",
       "<table border=\"1\" class=\"dataframe\">\n",
       "  <thead>\n",
       "    <tr style=\"text-align: right;\">\n",
       "      <th></th>\n",
       "      <th>user_id</th>\n",
       "      <th>group_id</th>\n",
       "      <th>result</th>\n",
       "      <th>cpi</th>\n",
       "      <th>click_timestamp</th>\n",
       "      <th>term_timestamp</th>\n",
       "      <th>status_code_1</th>\n",
       "      <th>status_code_2</th>\n",
       "    </tr>\n",
       "  </thead>\n",
       "  <tbody>\n",
       "    <tr>\n",
       "      <th>0</th>\n",
       "      <td>10313637</td>\n",
       "      <td>4</td>\n",
       "      <td>3</td>\n",
       "      <td>6.16</td>\n",
       "      <td>1609544373</td>\n",
       "      <td>1.609544e+09</td>\n",
       "      <td>24</td>\n",
       "      <td>-1</td>\n",
       "    </tr>\n",
       "    <tr>\n",
       "      <th>1</th>\n",
       "      <td>10313637</td>\n",
       "      <td>4</td>\n",
       "      <td>14</td>\n",
       "      <td>1.45</td>\n",
       "      <td>1609593936</td>\n",
       "      <td>1.609594e+09</td>\n",
       "      <td>3</td>\n",
       "      <td>40</td>\n",
       "    </tr>\n",
       "    <tr>\n",
       "      <th>2</th>\n",
       "      <td>10313637</td>\n",
       "      <td>4</td>\n",
       "      <td>3</td>\n",
       "      <td>3.55</td>\n",
       "      <td>1609682300</td>\n",
       "      <td>1.609682e+09</td>\n",
       "      <td>3</td>\n",
       "      <td>20</td>\n",
       "    </tr>\n",
       "    <tr>\n",
       "      <th>3</th>\n",
       "      <td>10313637</td>\n",
       "      <td>4</td>\n",
       "      <td>12</td>\n",
       "      <td>3.55</td>\n",
       "      <td>1609682371</td>\n",
       "      <td>1.609682e+09</td>\n",
       "      <td>3</td>\n",
       "      <td>20</td>\n",
       "    </tr>\n",
       "    <tr>\n",
       "      <th>4</th>\n",
       "      <td>10313637</td>\n",
       "      <td>4</td>\n",
       "      <td>2</td>\n",
       "      <td>7.00</td>\n",
       "      <td>1610216204</td>\n",
       "      <td>1.610217e+09</td>\n",
       "      <td>3</td>\n",
       "      <td>10</td>\n",
       "    </tr>\n",
       "  </tbody>\n",
       "</table>\n",
       "</div>"
      ],
      "text/plain": [
       "    user_id  group_id  result   cpi  click_timestamp  term_timestamp  \\\n",
       "0  10313637         4       3  6.16       1609544373    1.609544e+09   \n",
       "1  10313637         4      14  1.45       1609593936    1.609594e+09   \n",
       "2  10313637         4       3  3.55       1609682300    1.609682e+09   \n",
       "3  10313637         4      12  3.55       1609682371    1.609682e+09   \n",
       "4  10313637         4       2  7.00       1610216204    1.610217e+09   \n",
       "\n",
       "   status_code_1  status_code_2  \n",
       "0             24             -1  \n",
       "1              3             40  \n",
       "2              3             20  \n",
       "3              3             20  \n",
       "4              3             10  "
      ]
     },
     "execution_count": 28,
     "metadata": {},
     "output_type": "execute_result"
    }
   ],
   "source": [
    "df.head()"
   ]
  },
  {
   "cell_type": "code",
   "execution_count": 30,
   "id": "b3c6df34-98d0-4e3c-8b88-22c369cea094",
   "metadata": {},
   "outputs": [
    {
     "data": {
      "text/plain": [
       "((34580407, 8), (98970,))"
      ]
     },
     "execution_count": 30,
     "metadata": {},
     "output_type": "execute_result"
    }
   ],
   "source": [
    "df.shape, df['user_id'].unique().shape"
   ]
  },
  {
   "cell_type": "code",
   "execution_count": 13,
   "id": "39894130-2f0c-4753-8335-2ba28ee86288",
   "metadata": {},
   "outputs": [
    {
     "data": {
      "text/plain": [
       "<AxesSubplot:>"
      ]
     },
     "execution_count": 13,
     "metadata": {},
     "output_type": "execute_result"
    },
    {
     "data": {
      "image/png": "[encoded data removed]",
      "text/plain": [
       "<Figure size 432x288 with 1 Axes>"
      ]
     },
     "metadata": {
      "needs_background": "light"
     },
     "output_type": "display_data"
    }
   ],
   "source": [
    "df['user_id'].value_counts().hist(bins=[i*100 for i in range(1, 10)])"
   ]
  },
  {
   "cell_type": "code",
   "execution_count": 22,
   "id": "a1ff2561-bc11-4ba5-95d6-018809582c35",
   "metadata": {},
   "outputs": [
    {
     "data": {
      "text/plain": [
       "([<matplotlib.patches.Wedge at 0x1473d64f0>,\n",
       "  <matplotlib.patches.Wedge at 0x1473d6a30>,\n",
       "  <matplotlib.patches.Wedge at 0x1473d6f10>,\n",
       "  <matplotlib.patches.Wedge at 0x1473e5430>,\n",
       "  <matplotlib.patches.Wedge at 0x1473e5910>,\n",
       "  <matplotlib.patches.Wedge at 0x1473e5df0>,\n",
       "  <matplotlib.patches.Wedge at 0x1473f1310>,\n",
       "  <matplotlib.patches.Wedge at 0x1473f17f0>,\n",
       "  <matplotlib.patches.Wedge at 0x1473f1cd0>,\n",
       "  <matplotlib.patches.Wedge at 0x1473ff1f0>,\n",
       "  <matplotlib.patches.Wedge at 0x1473a6fa0>,\n",
       "  <matplotlib.patches.Wedge at 0x1473ffb80>,\n",
       "  <matplotlib.patches.Wedge at 0x14740b0a0>,\n",
       "  <matplotlib.patches.Wedge at 0x14740b580>,\n",
       "  <matplotlib.patches.Wedge at 0x14740ba60>],\n",
       " [Text(-0.02742283266082921, 1.0996581233496419, '4'),\n",
       "  Text(-0.9896474163623707, -0.48020619663565844, '22'),\n",
       "  Text(-0.3456594870227884, -1.044279425743485, '18'),\n",
       "  Text(0.4015457212577594, -1.0240903445202412, '64'),\n",
       "  Text(0.8700485708040779, -0.6730642498616174, '14'),\n",
       "  Text(1.044646829238775, -0.34454753251383796, '7'),\n",
       "  Text(1.0868937668028529, -0.1692983747267106, '51'),\n",
       "  Text(1.0968867273946465, -0.08270131356552025, '60'),\n",
       "  Text(1.098419013418989, -0.05895482134359241, '81'),\n",
       "  Text(1.0993000378549422, -0.039235529461478305, '17'),\n",
       "  Text(1.0997412562117557, -0.023857271130405127, '56'),\n",
       "  Text(1.0999284984175894, -0.01254186464712934, '52'),\n",
       "  Text(1.0999906886115285, -0.004526032250812623, '11'),\n",
       "  Text(1.0999995663936568, -0.0009766953298099533, '71'),\n",
       "  Text(1.0999999975714962, -7.309383316899399e-05, '77')])"
      ]
     },
     "execution_count": 22,
     "metadata": {},
     "output_type": "execute_result"
    },
    {
     "data": {
      "image/png": "[encoded data removed]",
      "text/plain": [
       "<Figure size 432x288 with 1 Axes>"
      ]
     },
     "metadata": {},
     "output_type": "display_data"
    }
   ],
   "source": [
    "plt.pie(df['group_id'].value_counts().values, labels=df['group_id'].value_counts().index)"
   ]
  },
  {
   "cell_type": "code",
   "execution_count": 24,
   "id": "45d37045-6230-4792-b3f1-e0be8271b15d",
   "metadata": {},
   "outputs": [
    {
     "ename": "AttributeError",
     "evalue": "'DataFrameGroupBy' object has no attribute 'pie'",
     "output_type": "error",
     "traceback": [
      "\u001b[0;31m---------------------------------------------------------------------------\u001b[0m",
      "\u001b[0;31mAttributeError\u001b[0m                            Traceback (most recent call last)",
      "\u001b[0;32m<ipython-input-24-711125b51a57>\u001b[0m in \u001b[0;36m<module>\u001b[0;34m\u001b[0m\n\u001b[0;32m----> 1\u001b[0;31m \u001b[0mdf\u001b[0m\u001b[0;34m.\u001b[0m\u001b[0mgroupby\u001b[0m\u001b[0;34m(\u001b[0m\u001b[0;34m[\u001b[0m\u001b[0;34m'group_id'\u001b[0m\u001b[0;34m]\u001b[0m\u001b[0;34m)\u001b[0m\u001b[0;34m.\u001b[0m\u001b[0mpie\u001b[0m\u001b[0;34m(\u001b[0m\u001b[0;34m)\u001b[0m\u001b[0;34m\u001b[0m\u001b[0;34m\u001b[0m\u001b[0m\n\u001b[0m",
      "\u001b[0;32m/usr/local/lib/python3.9/site-packages/pandas/core/groupby/groupby.py\u001b[0m in \u001b[0;36m__getattr__\u001b[0;34m(self, attr)\u001b[0m\n\u001b[1;32m    750\u001b[0m             \u001b[0;32mreturn\u001b[0m \u001b[0mself\u001b[0m\u001b[0;34m[\u001b[0m\u001b[0mattr\u001b[0m\u001b[0;34m]\u001b[0m\u001b[0;34m\u001b[0m\u001b[0;34m\u001b[0m\u001b[0m\n\u001b[1;32m    751\u001b[0m \u001b[0;34m\u001b[0m\u001b[0m\n\u001b[0;32m--> 752\u001b[0;31m         raise AttributeError(\n\u001b[0m\u001b[1;32m    753\u001b[0m             \u001b[0;34mf\"'{type(self).__name__}' object has no attribute '{attr}'\"\u001b[0m\u001b[0;34m\u001b[0m\u001b[0;34m\u001b[0m\u001b[0m\n\u001b[1;32m    754\u001b[0m         )\n",
      "\u001b[0;31mAttributeError\u001b[0m: 'DataFrameGroupBy' object has no attribute 'pie'"
     ]
    }
   ],
   "source": [
    "df.groupby(['group_id'])"
   ]
  },
  {
   "cell_type": "code",
   "execution_count": null,
   "id": "764b25d2-f27b-4c86-9abe-d21112f023dd",
   "metadata": {},
   "outputs": [],
   "source": []
  }
 ],
 "metadata": {
  "kernelspec": {
   "display_name": "Python 3",
   "language": "python",
   "name": "python3"
  },
  "language_info": {
   "codemirror_mode": {
    "name": "ipython",
    "version": 3
   },
   "file_extension": ".py",
   "mimetype": "text/x-python",
   "name": "python",
   "nbconvert_exporter": "python",
   "pygments_lexer": "ipython3",
   "version": "3.9.7"
  }
 },
 "nbformat": 4,
 "nbformat_minor": 5
}
